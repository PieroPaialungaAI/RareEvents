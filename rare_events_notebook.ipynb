{
 "cells": [
  {
   "cell_type": "markdown",
   "metadata": {},
   "source": [
    "# Hands on Modeling Rare Events in Time Series, with Python"
   ]
  },
  {
   "cell_type": "markdown",
   "metadata": {},
   "source": [
    "## Raw Data Display"
   ]
  },
  {
   "cell_type": "code",
   "execution_count": 1,
   "metadata": {},
   "outputs": [
    {
     "data": {
      "text/html": [
       "<div>\n",
       "<style scoped>\n",
       "    .dataframe tbody tr th:only-of-type {\n",
       "        vertical-align: middle;\n",
       "    }\n",
       "\n",
       "    .dataframe tbody tr th {\n",
       "        vertical-align: top;\n",
       "    }\n",
       "\n",
       "    .dataframe thead th {\n",
       "        text-align: right;\n",
       "    }\n",
       "</style>\n",
       "<table border=\"1\" class=\"dataframe\">\n",
       "  <thead>\n",
       "    <tr style=\"text-align: right;\">\n",
       "      <th></th>\n",
       "      <th>datetime</th>\n",
       "      <th>Vancouver</th>\n",
       "      <th>Portland</th>\n",
       "      <th>San Francisco</th>\n",
       "      <th>Seattle</th>\n",
       "      <th>Los Angeles</th>\n",
       "      <th>San Diego</th>\n",
       "      <th>Las Vegas</th>\n",
       "      <th>Phoenix</th>\n",
       "      <th>Albuquerque</th>\n",
       "      <th>...</th>\n",
       "      <th>Philadelphia</th>\n",
       "      <th>New York</th>\n",
       "      <th>Montreal</th>\n",
       "      <th>Boston</th>\n",
       "      <th>Beersheba</th>\n",
       "      <th>Tel Aviv District</th>\n",
       "      <th>Eilat</th>\n",
       "      <th>Haifa</th>\n",
       "      <th>Nahariyya</th>\n",
       "      <th>Jerusalem</th>\n",
       "    </tr>\n",
       "  </thead>\n",
       "  <tbody>\n",
       "    <tr>\n",
       "      <th>0</th>\n",
       "      <td>2012-10-01 12:00:00</td>\n",
       "      <td>NaN</td>\n",
       "      <td>NaN</td>\n",
       "      <td>NaN</td>\n",
       "      <td>NaN</td>\n",
       "      <td>NaN</td>\n",
       "      <td>NaN</td>\n",
       "      <td>NaN</td>\n",
       "      <td>NaN</td>\n",
       "      <td>NaN</td>\n",
       "      <td>...</td>\n",
       "      <td>NaN</td>\n",
       "      <td>NaN</td>\n",
       "      <td>NaN</td>\n",
       "      <td>NaN</td>\n",
       "      <td>NaN</td>\n",
       "      <td>NaN</td>\n",
       "      <td>309.100000</td>\n",
       "      <td>NaN</td>\n",
       "      <td>NaN</td>\n",
       "      <td>NaN</td>\n",
       "    </tr>\n",
       "    <tr>\n",
       "      <th>1</th>\n",
       "      <td>2012-10-01 13:00:00</td>\n",
       "      <td>284.630000</td>\n",
       "      <td>282.080000</td>\n",
       "      <td>289.480000</td>\n",
       "      <td>281.800000</td>\n",
       "      <td>291.870000</td>\n",
       "      <td>291.530000</td>\n",
       "      <td>293.410000</td>\n",
       "      <td>296.600000</td>\n",
       "      <td>285.120000</td>\n",
       "      <td>...</td>\n",
       "      <td>285.630000</td>\n",
       "      <td>288.220000</td>\n",
       "      <td>285.830000</td>\n",
       "      <td>287.170000</td>\n",
       "      <td>307.590000</td>\n",
       "      <td>305.470000</td>\n",
       "      <td>310.580000</td>\n",
       "      <td>304.4</td>\n",
       "      <td>304.4</td>\n",
       "      <td>303.5</td>\n",
       "    </tr>\n",
       "    <tr>\n",
       "      <th>2</th>\n",
       "      <td>2012-10-01 14:00:00</td>\n",
       "      <td>284.629041</td>\n",
       "      <td>282.083252</td>\n",
       "      <td>289.474993</td>\n",
       "      <td>281.797217</td>\n",
       "      <td>291.868186</td>\n",
       "      <td>291.533501</td>\n",
       "      <td>293.403141</td>\n",
       "      <td>296.608509</td>\n",
       "      <td>285.154558</td>\n",
       "      <td>...</td>\n",
       "      <td>285.663208</td>\n",
       "      <td>288.247676</td>\n",
       "      <td>285.834650</td>\n",
       "      <td>287.186092</td>\n",
       "      <td>307.590000</td>\n",
       "      <td>304.310000</td>\n",
       "      <td>310.495769</td>\n",
       "      <td>304.4</td>\n",
       "      <td>304.4</td>\n",
       "      <td>303.5</td>\n",
       "    </tr>\n",
       "    <tr>\n",
       "      <th>3</th>\n",
       "      <td>2012-10-01 15:00:00</td>\n",
       "      <td>284.626998</td>\n",
       "      <td>282.091866</td>\n",
       "      <td>289.460618</td>\n",
       "      <td>281.789833</td>\n",
       "      <td>291.862844</td>\n",
       "      <td>291.543355</td>\n",
       "      <td>293.392177</td>\n",
       "      <td>296.631487</td>\n",
       "      <td>285.233952</td>\n",
       "      <td>...</td>\n",
       "      <td>285.756824</td>\n",
       "      <td>288.326940</td>\n",
       "      <td>285.847790</td>\n",
       "      <td>287.231672</td>\n",
       "      <td>307.391513</td>\n",
       "      <td>304.281841</td>\n",
       "      <td>310.411538</td>\n",
       "      <td>304.4</td>\n",
       "      <td>304.4</td>\n",
       "      <td>303.5</td>\n",
       "    </tr>\n",
       "    <tr>\n",
       "      <th>4</th>\n",
       "      <td>2012-10-01 16:00:00</td>\n",
       "      <td>284.624955</td>\n",
       "      <td>282.100481</td>\n",
       "      <td>289.446243</td>\n",
       "      <td>281.782449</td>\n",
       "      <td>291.857503</td>\n",
       "      <td>291.553209</td>\n",
       "      <td>293.381213</td>\n",
       "      <td>296.654466</td>\n",
       "      <td>285.313345</td>\n",
       "      <td>...</td>\n",
       "      <td>285.850440</td>\n",
       "      <td>288.406203</td>\n",
       "      <td>285.860929</td>\n",
       "      <td>287.277251</td>\n",
       "      <td>307.145200</td>\n",
       "      <td>304.238015</td>\n",
       "      <td>310.327308</td>\n",
       "      <td>304.4</td>\n",
       "      <td>304.4</td>\n",
       "      <td>303.5</td>\n",
       "    </tr>\n",
       "  </tbody>\n",
       "</table>\n",
       "<p>5 rows × 37 columns</p>\n",
       "</div>"
      ],
      "text/plain": [
       "              datetime   Vancouver    Portland  San Francisco     Seattle  \\\n",
       "0  2012-10-01 12:00:00         NaN         NaN            NaN         NaN   \n",
       "1  2012-10-01 13:00:00  284.630000  282.080000     289.480000  281.800000   \n",
       "2  2012-10-01 14:00:00  284.629041  282.083252     289.474993  281.797217   \n",
       "3  2012-10-01 15:00:00  284.626998  282.091866     289.460618  281.789833   \n",
       "4  2012-10-01 16:00:00  284.624955  282.100481     289.446243  281.782449   \n",
       "\n",
       "   Los Angeles   San Diego   Las Vegas     Phoenix  Albuquerque  ...  \\\n",
       "0          NaN         NaN         NaN         NaN          NaN  ...   \n",
       "1   291.870000  291.530000  293.410000  296.600000   285.120000  ...   \n",
       "2   291.868186  291.533501  293.403141  296.608509   285.154558  ...   \n",
       "3   291.862844  291.543355  293.392177  296.631487   285.233952  ...   \n",
       "4   291.857503  291.553209  293.381213  296.654466   285.313345  ...   \n",
       "\n",
       "   Philadelphia    New York    Montreal      Boston   Beersheba  \\\n",
       "0           NaN         NaN         NaN         NaN         NaN   \n",
       "1    285.630000  288.220000  285.830000  287.170000  307.590000   \n",
       "2    285.663208  288.247676  285.834650  287.186092  307.590000   \n",
       "3    285.756824  288.326940  285.847790  287.231672  307.391513   \n",
       "4    285.850440  288.406203  285.860929  287.277251  307.145200   \n",
       "\n",
       "   Tel Aviv District       Eilat  Haifa  Nahariyya  Jerusalem  \n",
       "0                NaN  309.100000    NaN        NaN        NaN  \n",
       "1         305.470000  310.580000  304.4      304.4      303.5  \n",
       "2         304.310000  310.495769  304.4      304.4      303.5  \n",
       "3         304.281841  310.411538  304.4      304.4      303.5  \n",
       "4         304.238015  310.327308  304.4      304.4      303.5  \n",
       "\n",
       "[5 rows x 37 columns]"
      ]
     },
     "execution_count": 1,
     "metadata": {},
     "output_type": "execute_result"
    }
   ],
   "source": [
    "from data import Data\n",
    "data = Data()\n",
    "data.raw_data.head()"
   ]
  },
  {
   "cell_type": "markdown",
   "metadata": {},
   "source": [
    "## Picking a specific city: \n",
    "This is the code to select a specific city in the columns. "
   ]
  },
  {
   "cell_type": "code",
   "execution_count": 2,
   "metadata": {},
   "outputs": [],
   "source": [
    "data.isolate_city(city = 'New York')\n",
    "processed_data = data.clean_and_preprocess()"
   ]
  },
  {
   "cell_type": "code",
   "execution_count": 3,
   "metadata": {},
   "outputs": [
    {
     "data": {
      "text/html": [
       "<div>\n",
       "<style scoped>\n",
       "    .dataframe tbody tr th:only-of-type {\n",
       "        vertical-align: middle;\n",
       "    }\n",
       "\n",
       "    .dataframe tbody tr th {\n",
       "        vertical-align: top;\n",
       "    }\n",
       "\n",
       "    .dataframe thead th {\n",
       "        text-align: right;\n",
       "    }\n",
       "</style>\n",
       "<table border=\"1\" class=\"dataframe\">\n",
       "  <thead>\n",
       "    <tr style=\"text-align: right;\">\n",
       "      <th></th>\n",
       "      <th>y</th>\n",
       "      <th>datetime</th>\n",
       "      <th>date</th>\n",
       "      <th>month</th>\n",
       "      <th>year</th>\n",
       "    </tr>\n",
       "  </thead>\n",
       "  <tbody>\n",
       "    <tr>\n",
       "      <th>1</th>\n",
       "      <td>288.220000</td>\n",
       "      <td>2012-10-01 13:00:00</td>\n",
       "      <td>2012-10-01</td>\n",
       "      <td>10</td>\n",
       "      <td>2012</td>\n",
       "    </tr>\n",
       "    <tr>\n",
       "      <th>2</th>\n",
       "      <td>288.247676</td>\n",
       "      <td>2012-10-01 14:00:00</td>\n",
       "      <td>2012-10-01</td>\n",
       "      <td>10</td>\n",
       "      <td>2012</td>\n",
       "    </tr>\n",
       "    <tr>\n",
       "      <th>3</th>\n",
       "      <td>288.326940</td>\n",
       "      <td>2012-10-01 15:00:00</td>\n",
       "      <td>2012-10-01</td>\n",
       "      <td>10</td>\n",
       "      <td>2012</td>\n",
       "    </tr>\n",
       "    <tr>\n",
       "      <th>4</th>\n",
       "      <td>288.406203</td>\n",
       "      <td>2012-10-01 16:00:00</td>\n",
       "      <td>2012-10-01</td>\n",
       "      <td>10</td>\n",
       "      <td>2012</td>\n",
       "    </tr>\n",
       "    <tr>\n",
       "      <th>5</th>\n",
       "      <td>288.485467</td>\n",
       "      <td>2012-10-01 17:00:00</td>\n",
       "      <td>2012-10-01</td>\n",
       "      <td>10</td>\n",
       "      <td>2012</td>\n",
       "    </tr>\n",
       "  </tbody>\n",
       "</table>\n",
       "</div>"
      ],
      "text/plain": [
       "            y            datetime        date  month  year\n",
       "1  288.220000 2012-10-01 13:00:00  2012-10-01     10  2012\n",
       "2  288.247676 2012-10-01 14:00:00  2012-10-01     10  2012\n",
       "3  288.326940 2012-10-01 15:00:00  2012-10-01     10  2012\n",
       "4  288.406203 2012-10-01 16:00:00  2012-10-01     10  2012\n",
       "5  288.485467 2012-10-01 17:00:00  2012-10-01     10  2012"
      ]
     },
     "execution_count": 3,
     "metadata": {},
     "output_type": "execute_result"
    }
   ],
   "source": [
    "processed_data.head()"
   ]
  },
  {
   "cell_type": "markdown",
   "metadata": {},
   "source": [
    "## Distribution of rare events:"
   ]
  },
  {
   "cell_type": "code",
   "execution_count": 4,
   "metadata": {},
   "outputs": [
    {
     "data": {
      "image/png": "[encoded data removed]",
      "text/plain": [
       "<Figure size 1200x800 with 3 Axes>"
      ]
     },
     "metadata": {},
     "output_type": "display_data"
    }
   ],
   "source": [
    "from rare_events_processor import RareEventsToolbox\n",
    "rare_events_toolbox = RareEventsToolbox(data = processed_data)\n",
    "max_values_result = rare_events_toolbox.extract_max_values()\n",
    "rare_events_toolbox.plot_distributions()"
   ]
  },
  {
   "cell_type": "code",
   "execution_count": 7,
   "metadata": {},
   "outputs": [
    {
     "data": {
      "text/plain": [
       "{'weibull': {'day': {'dist_type': 'weibull_max',\n",
       "   'param': (0.29840949890756163, 310.24000000000007, 1.32704772668143),\n",
       "   'metrics': {'log_likelihood': -10136.828870673608,\n",
       "    'aic': 20279.657741347215,\n",
       "    'bic': 20296.23304358559}},\n",
       "  'month': {'dist_type': 'weibull_max',\n",
       "   'param': (0.3924243704054954, 310.24000000000007, 1.5690792505326328),\n",
       "   'metrics': {'log_likelihood': -258.3983950086204,\n",
       "    'aic': 522.7967900172408,\n",
       "    'bic': 529.1294116097607}},\n",
       "  'year': {'dist_type': 'weibull_max',\n",
       "   'param': (0.4550219204362326, 310.24000000000007, 1.4976160690243674),\n",
       "   'metrics': {'log_likelihood': -0.22984083999218674,\n",
       "    'aic': 6.4596816799843735,\n",
       "    'bic': 5.834960087668539}}},\n",
       " 'gumbel': {'day': {'dist_type': 'gumbel_max',\n",
       "   'param': (284.9186555914749, 9.982614567124845),\n",
       "   'metrics': {'log_likelihood': -7075.996516776813,\n",
       "    'aic': 14155.993033553626,\n",
       "    'bic': 14167.043235045878}},\n",
       "  'month': {'dist_type': 'gumbel_max',\n",
       "   'param': (294.17390306109326, 7.876803094615975),\n",
       "   'metrics': {'log_likelihood': -218.2579732270492,\n",
       "    'aic': 440.5159464540984,\n",
       "    'bic': 444.737694182445}},\n",
       "  'year': {'dist_type': 'gumbel_max',\n",
       "   'param': (304.86819067038135, 3.8762929520379927),\n",
       "   'metrics': {'log_likelihood': -16.951780565859988,\n",
       "    'aic': 37.903561131719975,\n",
       "    'bic': 37.487080070176084}}}}"
      ]
     },
     "execution_count": 7,
     "metadata": {},
     "output_type": "execute_result"
    }
   ],
   "source": [
    "rare_events_toolbox.fit_max_distribution(dist_type='gumbel')"
   ]
  },
  {
   "cell_type": "code",
   "execution_count": 8,
   "metadata": {},
   "outputs": [
    {
     "ename": "AttributeError",
     "evalue": "'RareEventsToolbox' object has no attribute 'plot_fitted_distribution'",
     "output_type": "error",
     "traceback": [
      "\u001b[0;31m---------------------------------------------------------------------------\u001b[0m",
      "\u001b[0;31mAttributeError\u001b[0m                            Traceback (most recent call last)",
      "Cell \u001b[0;32mIn[8], line 1\u001b[0m\n\u001b[0;32m----> 1\u001b[0m \u001b[43mrare_events_toolbox\u001b[49m\u001b[38;5;241;43m.\u001b[39;49m\u001b[43mplot_fitted_distribution\u001b[49m()\n",
      "\u001b[0;31mAttributeError\u001b[0m: 'RareEventsToolbox' object has no attribute 'plot_fitted_distribution'"
     ]
    }
   ],
   "source": [
    "rare_events_toolbox.plot_fitted_distribution()"
   ]
  },
  {
   "cell_type": "code",
   "execution_count": null,
   "metadata": {},
   "outputs": [],
   "source": []
  }
 ],
 "metadata": {
  "kernelspec": {
   "display_name": "base",
   "language": "python",
   "name": "python3"
  },
  "language_info": {
   "codemirror_mode": {
    "name": "ipython",
    "version": 3
   },
   "file_extension": ".py",
   "mimetype": "text/x-python",
   "name": "python",
   "nbconvert_exporter": "python",
   "pygments_lexer": "ipython3",
   "version": "3.10.6"
  }
 },
 "nbformat": 4,
 "nbformat_minor": 2
}
